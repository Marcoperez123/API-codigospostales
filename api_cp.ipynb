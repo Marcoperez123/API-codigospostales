{
 "cells": [
  {
   "cell_type": "code",
   "execution_count": null,
   "metadata": {},
   "outputs": [
    {
     "name": "stdout",
     "output_type": "stream",
     "text": [
      "Requirement already satisfied: pandas in c:\\users\\user\\appdata\\local\\packages\\pythonsoftwarefoundation.python.3.11_qbz5n2kfra8p0\\localcache\\local-packages\\python311\\site-packages (2.2.2)\n",
      "Collecting pyodbc\n",
      "  Downloading pyodbc-5.2.0-cp311-cp311-win_amd64.whl.metadata (2.8 kB)\n",
      "Requirement already satisfied: numpy>=1.23.2 in c:\\users\\user\\appdata\\local\\packages\\pythonsoftwarefoundation.python.3.11_qbz5n2kfra8p0\\localcache\\local-packages\\python311\\site-packages (from pandas) (2.0.0)\n",
      "Requirement already satisfied: python-dateutil>=2.8.2 in c:\\users\\user\\appdata\\local\\packages\\pythonsoftwarefoundation.python.3.11_qbz5n2kfra8p0\\localcache\\local-packages\\python311\\site-packages (from pandas) (2.9.0.post0)\n",
      "Requirement already satisfied: pytz>=2020.1 in c:\\users\\user\\appdata\\local\\packages\\pythonsoftwarefoundation.python.3.11_qbz5n2kfra8p0\\localcache\\local-packages\\python311\\site-packages (from pandas) (2024.1)\n",
      "Requirement already satisfied: tzdata>=2022.7 in c:\\users\\user\\appdata\\local\\packages\\pythonsoftwarefoundation.python.3.11_qbz5n2kfra8p0\\localcache\\local-packages\\python311\\site-packages (from pandas) (2024.1)\n",
      "Requirement already satisfied: six>=1.5 in c:\\users\\user\\appdata\\local\\packages\\pythonsoftwarefoundation.python.3.11_qbz5n2kfra8p0\\localcache\\local-packages\\python311\\site-packages (from python-dateutil>=2.8.2->pandas) (1.16.0)\n",
      "Downloading pyodbc-5.2.0-cp311-cp311-win_amd64.whl (68 kB)\n",
      "Installing collected packages: pyodbc\n",
      "Successfully installed pyodbc-5.2.0\n",
      "Note: you may need to restart the kernel to use updated packages.\n"
     ]
    }
   ],
   "source": [
    "import pymysql\n",
    "import pandas as pd\n",
    "\n",
    "# Configuración de la base de datos\n",
    "DB_CONFIG = {\n",
    "    \"host\": \"localhost\",  # Cambia según tu configuración\n",
    "    \"user\": \"root\",       # Usuario de MySQL\n",
    "    \"password\": \"\",       # Contraseña (déjalo vacío si no tiene)\n",
    "    \"database\": \"karlaortiz_datos1\",  # Nombre de la base de datos\n",
    "    \"port\": 3306           # Puerto de MySQL (por defecto es 3306)\n",
    "}\n",
    "\n",
    "# Cargar el archivo CSV\n",
    "csv_file = \"modified_codigos_postales.csv\"\n",
    "df = pd.read_csv(csv_file, encoding=\"utf-8\", delimiter=\",\")\n",
    "\n",
    "# Reemplazar NaN con NULL\n",
    "df = df.where(pd.notna(df), None)\n",
    "\n",
    "# Crear la conexión a MySQL\n",
    "conn = pymysql.connect(**DB_CONFIG)\n",
    "cursor = conn.cursor()\n",
    "\n",
    "# Query para insertar datos\n",
    "def insert_data(row):\n",
    "    sql = \"\"\"\n",
    "    INSERT INTO codigos_postales (\n",
    "        id, d_codigo, d_asenta, d_tipo_asenta, d_mnpio, d_estado,\n",
    "        d_CP, c_estado, c_oficina, c_tipo_asenta, c_mnpio,\n",
    "        id_asenta_cpcons, d_zona, seccion_electoral\n",
    "    ) VALUES (%s, %s, %s, %s, %s, %s, %s, %s, %s, %s, %s, %s, %s, %s)\n",
    "    \"\"\"\n",
    "    cursor.execute(sql, tuple(row))\n",
    "\n",
    "# Insertar cada fila\n",
    "for _, row in df.iterrows():\n",
    "    insert_data(row)\n",
    "\n",
    "# Confirmar cambios y cerrar conexión\n",
    "conn.commit()\n",
    "cursor.close()\n",
    "conn.close()\n",
    "\n",
    "print(\"Importación completada exitosamente.\")\n",
    "c\n"
   ]
  },
  {
   "cell_type": "code",
   "execution_count": 7,
   "metadata": {},
   "outputs": [
    {
     "name": "stdout",
     "output_type": "stream",
     "text": [
      "Error al conectar a MySQL: (1045, \"Access denied for user 'karlaortiz_karlaortiz'@'fixed-187-189-49-79.totalplay.net' (using password: YES)\")\n"
     ]
    }
   ],
   "source": [
    "import pymysql\n",
    "\n",
    "# Configuración de la base de datos\n",
    "DB_CONFIG = {\n",
    "    \"host\": \"162.210.102.177\",  # Cambia según tu configuración\n",
    "    \"user\": \"karlaortiz_karlaortiz\",       # Usuario de MySQL\n",
    "    \"password\": \"wagJ;azv@24+\",       # Contraseña (déjalo vacío si no tiene)\n",
    "    \"database\": \"karlaortiz_datos1\",  # Nombre de la base de datos\n",
    "    \"port\": 3306           # Puerto de MySQL (por defecto es 3306)\n",
    "}\n",
    "\n",
    "# Comprobar la conexión a la base de datos\n",
    "try:\n",
    "    conn = pymysql.connect(**DB_CONFIG)\n",
    "    cursor = conn.cursor()\n",
    "    cursor.execute(\"SELECT VERSION()\")\n",
    "    version = cursor.fetchone()\n",
    "    print(f\"Conectado a MySQL, versión: {version[0]}\")\n",
    "    cursor.close()\n",
    "    conn.close()\n",
    "except pymysql.MySQLError as e:\n",
    "    print(f\"Error al conectar a MySQL: {e}\")\n"
   ]
  },
  {
   "cell_type": "code",
   "execution_count": 8,
   "metadata": {},
   "outputs": [
    {
     "name": "stdout",
     "output_type": "stream",
     "text": [
      "Collecting fastapi\n",
      "  Downloading fastapi-0.115.11-py3-none-any.whl.metadata (27 kB)\n",
      "Collecting uvicorn\n",
      "  Downloading uvicorn-0.34.0-py3-none-any.whl.metadata (6.5 kB)\n",
      "Requirement already satisfied: pandas in c:\\users\\user\\appdata\\local\\packages\\pythonsoftwarefoundation.python.3.11_qbz5n2kfra8p0\\localcache\\local-packages\\python311\\site-packages (2.2.2)\n",
      "Collecting starlette<0.47.0,>=0.40.0 (from fastapi)\n",
      "  Downloading starlette-0.46.1-py3-none-any.whl.metadata (6.2 kB)\n",
      "Requirement already satisfied: pydantic!=1.8,!=1.8.1,!=2.0.0,!=2.0.1,!=2.1.0,<3.0.0,>=1.7.4 in c:\\users\\user\\appdata\\local\\packages\\pythonsoftwarefoundation.python.3.11_qbz5n2kfra8p0\\localcache\\local-packages\\python311\\site-packages (from fastapi) (2.9.2)\n",
      "Requirement already satisfied: typing-extensions>=4.8.0 in c:\\users\\user\\appdata\\local\\packages\\pythonsoftwarefoundation.python.3.11_qbz5n2kfra8p0\\localcache\\local-packages\\python311\\site-packages (from fastapi) (4.12.1)\n",
      "Collecting click>=7.0 (from uvicorn)\n",
      "  Downloading click-8.1.8-py3-none-any.whl.metadata (2.3 kB)\n",
      "Requirement already satisfied: h11>=0.8 in c:\\users\\user\\appdata\\local\\packages\\pythonsoftwarefoundation.python.3.11_qbz5n2kfra8p0\\localcache\\local-packages\\python311\\site-packages (from uvicorn) (0.14.0)\n",
      "Requirement already satisfied: numpy>=1.23.2 in c:\\users\\user\\appdata\\local\\packages\\pythonsoftwarefoundation.python.3.11_qbz5n2kfra8p0\\localcache\\local-packages\\python311\\site-packages (from pandas) (2.0.0)\n",
      "Requirement already satisfied: python-dateutil>=2.8.2 in c:\\users\\user\\appdata\\local\\packages\\pythonsoftwarefoundation.python.3.11_qbz5n2kfra8p0\\localcache\\local-packages\\python311\\site-packages (from pandas) (2.9.0.post0)\n",
      "Requirement already satisfied: pytz>=2020.1 in c:\\users\\user\\appdata\\local\\packages\\pythonsoftwarefoundation.python.3.11_qbz5n2kfra8p0\\localcache\\local-packages\\python311\\site-packages (from pandas) (2024.1)\n",
      "Requirement already satisfied: tzdata>=2022.7 in c:\\users\\user\\appdata\\local\\packages\\pythonsoftwarefoundation.python.3.11_qbz5n2kfra8p0\\localcache\\local-packages\\python311\\site-packages (from pandas) (2024.1)\n",
      "Requirement already satisfied: colorama in c:\\users\\user\\appdata\\local\\packages\\pythonsoftwarefoundation.python.3.11_qbz5n2kfra8p0\\localcache\\local-packages\\python311\\site-packages (from click>=7.0->uvicorn) (0.4.6)\n",
      "Requirement already satisfied: annotated-types>=0.6.0 in c:\\users\\user\\appdata\\local\\packages\\pythonsoftwarefoundation.python.3.11_qbz5n2kfra8p0\\localcache\\local-packages\\python311\\site-packages (from pydantic!=1.8,!=1.8.1,!=2.0.0,!=2.0.1,!=2.1.0,<3.0.0,>=1.7.4->fastapi) (0.7.0)\n",
      "Requirement already satisfied: pydantic-core==2.23.4 in c:\\users\\user\\appdata\\local\\packages\\pythonsoftwarefoundation.python.3.11_qbz5n2kfra8p0\\localcache\\local-packages\\python311\\site-packages (from pydantic!=1.8,!=1.8.1,!=2.0.0,!=2.0.1,!=2.1.0,<3.0.0,>=1.7.4->fastapi) (2.23.4)\n",
      "Requirement already satisfied: six>=1.5 in c:\\users\\user\\appdata\\local\\packages\\pythonsoftwarefoundation.python.3.11_qbz5n2kfra8p0\\localcache\\local-packages\\python311\\site-packages (from python-dateutil>=2.8.2->pandas) (1.16.0)\n",
      "Requirement already satisfied: anyio<5,>=3.6.2 in c:\\users\\user\\appdata\\local\\packages\\pythonsoftwarefoundation.python.3.11_qbz5n2kfra8p0\\localcache\\local-packages\\python311\\site-packages (from starlette<0.47.0,>=0.40.0->fastapi) (4.4.0)\n",
      "Requirement already satisfied: idna>=2.8 in c:\\users\\user\\appdata\\local\\packages\\pythonsoftwarefoundation.python.3.11_qbz5n2kfra8p0\\localcache\\local-packages\\python311\\site-packages (from anyio<5,>=3.6.2->starlette<0.47.0,>=0.40.0->fastapi) (3.6)\n",
      "Requirement already satisfied: sniffio>=1.1 in c:\\users\\user\\appdata\\local\\packages\\pythonsoftwarefoundation.python.3.11_qbz5n2kfra8p0\\localcache\\local-packages\\python311\\site-packages (from anyio<5,>=3.6.2->starlette<0.47.0,>=0.40.0->fastapi) (1.3.1)\n",
      "Downloading fastapi-0.115.11-py3-none-any.whl (94 kB)\n",
      "Downloading uvicorn-0.34.0-py3-none-any.whl (62 kB)\n",
      "Downloading click-8.1.8-py3-none-any.whl (98 kB)\n",
      "Downloading starlette-0.46.1-py3-none-any.whl (71 kB)\n",
      "Installing collected packages: click, uvicorn, starlette, fastapi\n",
      "Successfully installed click-8.1.8 fastapi-0.115.11 starlette-0.46.1 uvicorn-0.34.0\n",
      "Note: you may need to restart the kernel to use updated packages.\n"
     ]
    }
   ],
   "source": [
    "pip install fastapi uvicorn pandas\n"
   ]
  },
  {
   "cell_type": "code",
   "execution_count": 9,
   "metadata": {},
   "outputs": [],
   "source": [
    "from fastapi import FastAPI\n",
    "import pandas as pd\n",
    "\n",
    "# Cargar datos desde el archivo CSV\n",
    "df = pd.read_csv(\"modified_codigos_postales.csv\")\n",
    "\n",
    "# Inicializar FastAPI\n",
    "app = FastAPI()\n",
    "\n",
    "@app.get(\"/colonias/{codigo_postal}\")\n",
    "def obtener_colonias(codigo_postal: int):\n",
    "    # Filtrar datos por código postal\n",
    "    colonias = df[df[\"d_codigo\"] == codigo_postal]\n",
    "    \n",
    "    if colonias.empty:\n",
    "        return {\"mensaje\": \"Código postal no encontrado\"}\n",
    "    \n",
    "    # Convertir resultados a lista de diccionarios\n",
    "    resultado = colonias[[\"d_asenta\", \"d_tipo_asenta\", \"d_mnpio\", \"d_estado\", \"d_zona\"]].to_dict(orient=\"records\")\n",
    "    return {\"codigo_postal\": codigo_postal, \"colonias\": resultado}\n",
    "\n",
    "# Para ejecutar la API:\n",
    "# uvicorn geonames_api:app --reload\n"
   ]
  }
 ],
 "metadata": {
  "kernelspec": {
   "display_name": "Python 3",
   "language": "python",
   "name": "python3"
  },
  "language_info": {
   "codemirror_mode": {
    "name": "ipython",
    "version": 3
   },
   "file_extension": ".py",
   "mimetype": "text/x-python",
   "name": "python",
   "nbconvert_exporter": "python",
   "pygments_lexer": "ipython3",
   "version": "3.11.9"
  }
 },
 "nbformat": 4,
 "nbformat_minor": 2
}
